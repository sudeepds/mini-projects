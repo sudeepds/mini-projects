{
  "cells": [
    {
      "cell_type": "markdown",
      "metadata": {
        "id": "view-in-github",
        "colab_type": "text"
      },
      "source": [
        "<a href=\"https://colab.research.google.com/github/sudeepds/mini-projects/blob/main/Amazon_Review_Helpfulness_Classifier.ipynb\" target=\"_parent\"><img src=\"https://colab.research.google.com/assets/colab-badge.svg\" alt=\"Open In Colab\"/></a>"
      ]
    },
    {
      "cell_type": "markdown",
      "id": "f5d80c60",
      "metadata": {
        "id": "f5d80c60"
      },
      "source": [
        "# 1. Business Understanding\n",
        " Reference: https://t-lanigan.github.io/amazon-review-classifier/\n",
        "\n",
        "The quality of the comments made on internet forums has always suffered due to anonymity of it’s users. When users comments on, for instance, a YouTube video, there is no repercussion for what they say, and the dialog generated is often not helpful. Different websites have tried different methods for extracting more useful comments. Reddit uses an up-vote system, Quora fosters a community that values high quality responses over low quality ones, and Amazon allows for its users to to rate the “helpfulness” of reviews left on their products. Amazon’s system, in particular, then allows for the higher rated comments to be displayed at the top of the review forum so that new users can see the top rated comments in order to help them make their own purchasing decisions.\n",
        "\n",
        "Even though Amazon’s helpfulness rating system seems to work on the surface level, poor quality comments still seem to be at the top of their review forms. Having poor quality reviews hurts Amazon’s business, as a major reason that people are willing to buy consumer goods on-line without seeing the items themselves, is that they have access to others peoples opinions of the item.\n",
        "\n",
        "## Problem Statement\n",
        "The problem being addressed in this project is the poor quality of Amazon reviews at the top of the forum despite the “helpfulness” rating system. The problem arises from the “free pass” given to new reviews to be placed at the top of the forum, for a chance to be rated by the community. The proposed solution to this problem is to use machine learning techniques to design a system that “pre-rates” new reviews on their “helpfulness” before they are given a position at the top of the forum. This way, poor quality reviews will be more unlikely to be shown at the top of the forum, as they do not get the “freepass” because they are new. The proposed system will use a set of Amazon review data to train itself to predict a helpfulness classification (helpful, or not helpful) for new input data.\n",
        "\n"
      ]
    },
    {
      "cell_type": "code",
      "source": [
        "from google.colab import drive\n",
        "drive.mount('/content/drive')"
      ],
      "metadata": {
        "colab": {
          "base_uri": "https://localhost:8080/"
        },
        "id": "jxJLF9ljG2xp",
        "outputId": "1ea95f49-f46d-4f10-c51f-246c78031e60"
      },
      "id": "jxJLF9ljG2xp",
      "execution_count": 1,
      "outputs": [
        {
          "output_type": "stream",
          "name": "stdout",
          "text": [
            "Mounted at /content/drive\n"
          ]
        }
      ]
    },
    {
      "cell_type": "raw",
      "id": "3298e121",
      "metadata": {
        "id": "3298e121"
      },
      "source": [
        "--------------Type the answers below this line-------------- "
      ]
    },
    {
      "cell_type": "markdown",
      "id": "3cc8e0cb",
      "metadata": {
        "id": "3cc8e0cb"
      },
      "source": [
        "# 2. Data Acquisition\n",
        " \n",
        "For the problem identified by you, students have to find the data source themselves which should be a website which has the required data in it. You have to write Python crawler code to scrape data from the respective website rather than downloading ready-made dataset as such from sources like Kaggle etc. \n",
        "\n",
        "(Data downloaded from website like Kaggle will be awarded negative marks.)\n",
        "\n",
        "## 2.1 Code for scraping data from website\n",
        "\n"
      ]
    },
    {
      "cell_type": "code",
      "execution_count": 2,
      "id": "4b51d895",
      "metadata": {
        "colab": {
          "base_uri": "https://localhost:8080/"
        },
        "id": "4b51d895",
        "outputId": "ba81af9a-1961-42c7-97d7-25e322545f59"
      },
      "outputs": [
        {
          "output_type": "stream",
          "name": "stdout",
          "text": [
            "Requirement already satisfied: bs4 in /usr/local/lib/python3.7/dist-packages (0.0.1)\n",
            "Requirement already satisfied: beautifulsoup4 in /usr/local/lib/python3.7/dist-packages (from bs4) (4.6.3)\n",
            "Requirement already satisfied: requests in /usr/local/lib/python3.7/dist-packages (2.23.0)\n",
            "Requirement already satisfied: urllib3!=1.25.0,!=1.25.1,<1.26,>=1.21.1 in /usr/local/lib/python3.7/dist-packages (from requests) (1.24.3)\n",
            "Requirement already satisfied: chardet<4,>=3.0.2 in /usr/local/lib/python3.7/dist-packages (from requests) (3.0.4)\n",
            "Requirement already satisfied: idna<3,>=2.5 in /usr/local/lib/python3.7/dist-packages (from requests) (2.10)\n",
            "Requirement already satisfied: certifi>=2017.4.17 in /usr/local/lib/python3.7/dist-packages (from requests) (2021.10.8)\n"
          ]
        }
      ],
      "source": [
        "##---------Type the code below this line------------------##\n",
        "#installations\n",
        "!pip install bs4\n",
        "!pip install requests\n"
      ]
    },
    {
      "cell_type": "code",
      "source": [
        "#imports\n",
        "import requests\n",
        "from bs4 import BeautifulSoup\n",
        "import pandas as pd\n",
        "# These are all the modules we'll be using later. Make sure you can import them\n",
        "# before proceeding further.\n",
        "from __future__ import print_function\n",
        "import matplotlib.pyplot as plt\n",
        "import numpy as np\n",
        "import os\n",
        "import sys\n",
        "from six.moves import cPickle as pickle\n",
        "import gzip\n",
        "import seaborn as sns\n",
        "import string\n",
        "from time import time\n",
        "import nltk\n",
        "from nltk.corpus import stopwords \n",
        "nltk.download('stopwords')\n",
        "stops = set(stopwords.words(\"english\"))\n",
        "\n",
        "\n",
        "from IPython.display import display # Allows the use of display() for DataFrames\n",
        "\n",
        "\n",
        "import warnings\n",
        "warnings.filterwarnings('ignore')\n",
        "\n",
        "# Config the matlotlib backend as plotting inline in IPython\n",
        "%matplotlib inline\n",
        "\n",
        "# Lets define some helpful constants\n",
        "DATASET_NAME = 'reviews_Apps_for_Android_5.json.gz'\n",
        "\n",
        "# A size for figures\n",
        "FIG_SIZE = (14,8)\n",
        "\n",
        "#Random state for classifiers\n",
        "RAN_STATE = 42"
      ],
      "metadata": {
        "id": "N_MtToSLUbqj",
        "colab": {
          "base_uri": "https://localhost:8080/"
        },
        "outputId": "4a0a5e36-ad3d-4c1e-f8a7-2f120cc5e897"
      },
      "id": "N_MtToSLUbqj",
      "execution_count": 25,
      "outputs": [
        {
          "output_type": "stream",
          "name": "stdout",
          "text": [
            "[nltk_data] Downloading package stopwords to /root/nltk_data...\n",
            "[nltk_data]   Unzipping corpora/stopwords.zip.\n"
          ]
        }
      ]
    },
    {
      "cell_type": "code",
      "source": [
        "review_id = []\n",
        "review_text = []\n",
        "overall_review_rating = []\n",
        "review_helpful_count = []"
      ],
      "metadata": {
        "id": "nQbaDO8FiESR"
      },
      "id": "nQbaDO8FiESR",
      "execution_count": null,
      "outputs": []
    },
    {
      "cell_type": "code",
      "source": [
        "HEADERS = ({'User-Agent':\n",
        "            'Mozilla/5.0 (Windows NT 10.0; Win64; x64) \\\n",
        "            AppleWebKit/537.36 (KHTML, like Gecko) \\\n",
        "            Chrome/90.0.4430.212 Safari/537.36',\n",
        "            'Accept-Language': 'en-US, en;q=0.5'})\n",
        "\n",
        "# function to Scrape the data\n",
        "def getdata(url):\n",
        "    r = requests.get(url, headers=HEADERS)\n",
        "    return r.text\n",
        "  \n",
        "# function to download the html code from a given url \n",
        "def html_code(r):  \n",
        "    htmldata = r.text\n",
        "    soup = BeautifulSoup(htmldata, 'html.parser')\n",
        "\n",
        "    return (soup)\n",
        "\n",
        "base_url = \"https://www.amazon.in/New-Apple-iPhone-11-128GB/product-reviews/B08L89VM35/ref=cm_cr_arp_d_paging_btm_next_2?ie=UTF8&reviewerType=all_reviews\"\n",
        "  \n",
        "# soup = html_code(url)\n",
        "# print(soup)"
      ],
      "metadata": {
        "id": "AID0jLd5WDjF"
      },
      "id": "AID0jLd5WDjF",
      "execution_count": null,
      "outputs": []
    },
    {
      "cell_type": "code",
      "source": [
        "def review_data(soup):\n",
        "    # finding the Html tag with find()\n",
        "    # and converting into string\n",
        "\n",
        "  for div in soup.find_all(class_=\"a-section review aok-relative\"):       \n",
        "      div_id = div['id']     \n",
        "      review_id.append(div_id)\n",
        "      for rev in div.find_all(\"span\", {'data-hook':\"review-body\"}):\n",
        "        review_text.append(rev.text)\n",
        "\n",
        "      for rating in div.find_all(\"i\", {'data-hook':\"review-star-rating\"}):\n",
        "        txt_list = rating.text.split()\n",
        "        overall_review_rating.append(txt_list[0])\n",
        "    \n",
        "      for helpful_count in div.find_all(\"span\", {'data-hook': 'helpful-vote-statement'}):\n",
        "        txt_list = helpful_count.text.split()\n",
        "        review_helpful_count.append(txt_list[0])\n",
        "      \n",
        "      #review_text.extend([''] * (len(review_id)-len(review_text)))\n",
        "      overall_review_rating.extend(['0'] * (len(review_id)-len(overall_review_rating)))\n",
        "      review_helpful_count.extend(['0'] * (len(review_id)-len(review_helpful_count)))\n",
        "\n",
        "  \n",
        "  \n",
        "# review_data(soup)\n",
        "#print(review_id)\n",
        "# print(review_text[1])\n",
        "# print(overall_review_rating)\n",
        "# print(review_helpful_count)\n",
        "#print(len(review_id))"
      ],
      "metadata": {
        "id": "0YPZYfiran1W"
      },
      "id": "0YPZYfiran1W",
      "execution_count": null,
      "outputs": []
    },
    {
      "cell_type": "code",
      "source": [
        "def page_iterator(url, page_start):\n",
        "  page_url = url + \"&pageNumber=\" + str(page_start)\n",
        "  r = requests.get(page_url, headers=HEADERS)\n",
        "  last_page_number = i = page_start\n",
        "  while r.status_code == 200:\n",
        "    soup = html_code(r)\n",
        "    review_data(soup)\n",
        "    page_url = url + \"&pageNumber=\" + str(i)\n",
        "    #print(page_url)\n",
        "    r = requests.get(page_url, headers=HEADERS)\n",
        "    last_page_number = i\n",
        "    i+=1\n",
        "  print(last_page_number)\n",
        "  return last_page_number\n",
        "\n"
      ],
      "metadata": {
        "id": "i3UwbzoUxV4Z"
      },
      "id": "i3UwbzoUxV4Z",
      "execution_count": null,
      "outputs": []
    },
    {
      "cell_type": "code",
      "source": [
        "def caller():\n",
        "  pagination = 0\n",
        "  while pagination < 4000:\n",
        "    pagination = page_iterator(base_url, pagination+1)\n"
      ],
      "metadata": {
        "id": "Wu09mCa-MVZP"
      },
      "id": "Wu09mCa-MVZP",
      "execution_count": null,
      "outputs": []
    },
    {
      "cell_type": "code",
      "source": [
        "caller()"
      ],
      "metadata": {
        "id": "DRegz2vt2qkK"
      },
      "id": "DRegz2vt2qkK",
      "execution_count": null,
      "outputs": []
    },
    {
      "cell_type": "code",
      "source": [
        "print(len(review_id))\n",
        "print(len(overall_review_rating))\n",
        "print(len(review_text))\n",
        "print(len(review_helpful_count))"
      ],
      "metadata": {
        "id": "NO3v9VIxwo4k",
        "colab": {
          "base_uri": "https://localhost:8080/"
        },
        "outputId": "c864b8a3-0f94-4e87-8286-d19051c8f09c"
      },
      "id": "NO3v9VIxwo4k",
      "execution_count": null,
      "outputs": [
        {
          "output_type": "stream",
          "name": "stdout",
          "text": [
            "5010\n",
            "5010\n",
            "5010\n",
            "5010\n"
          ]
        }
      ]
    },
    {
      "cell_type": "code",
      "source": [
        "## test cell, remove before finalizing\n",
        "test_review_helpful_count = []\n",
        "test_review_ids = []\n",
        "test_url = \"https://www.amazon.in/Vincarosea-Womens-Printed-Loungewear-Nightwear/dp/B09J2MBWVD/ref=sr_1_4_sspa?pf_rd_i=21251246031&pf_rd_m=A1VBAL9TL5WCBF&pf_rd_p=9a78f17e-e150-4fab-9c31-e434566fdaad&pf_rd_r=ECJHM091BR0EEP8P2R3S&pf_rd_s=merchandised-search-6&pf_rd_t=30901&qid=1645262540&s=apparel&sr=1-4-spons&smid=A21ZG1IIT18ZOG&spLa=ZW5jcnlwdGVkUXVhbGlmaWVyPUExNjlFWVJLSDFPTUYzJmVuY3J5cHRlZElkPUEwOTQzNzM0MTJJQkoxNlVOOEsyJmVuY3J5cHRlZEFkSWQ9QTAyOTg4NzcxMUxCUDVVS0IwWEVWJndpZGdldE5hbWU9c3BfYXRmX2Jyb3dzZSZhY3Rpb249Y2xpY2tSZWRpcmVjdCZkb05vdExvZ0NsaWNrPXRydWU&th=1&psc=1\"\n",
        "test_r = requests.get(test_url, headers=HEADERS)\n",
        "\n",
        "test_htmldata = test_r.text\n",
        "test_soup = BeautifulSoup(test_htmldata, 'html.parser')\n",
        "for div in test_soup.find_all(class_=\"a-section review aok-relative\"):\n",
        "  div_id = div['id']\n",
        "  test_review_ids.append(div_id)\n",
        "  print(div_id)\n",
        "  for helpful_count in div.find_all(\"span\", {'data-hook': 'helpful-vote-statement'}):\n",
        "        print(\"inside 2nd for loop\")\n",
        "        txt_list = helpful_count.text.split()\n",
        "        print(txt_list[0])\n",
        "        test_review_helpful_count.append(txt_list[0])\n",
        "        print(test_review_helpful_count)\n",
        "  test_review_helpful_count.extend(['0'] * (len(test_review_ids)-len(test_review_helpful_count)))\n",
        "\n",
        "print(test_review_ids)\n",
        "print(test_review_helpful_count)\n",
        "\n",
        "\n"
      ],
      "metadata": {
        "id": "thbKNh0oUKlT"
      },
      "id": "thbKNh0oUKlT",
      "execution_count": null,
      "outputs": []
    },
    {
      "cell_type": "markdown",
      "id": "49530d0c",
      "metadata": {
        "id": "49530d0c"
      },
      "source": [
        "## 2.2 Code for converting the above scraped data into a dataframe"
      ]
    },
    {
      "cell_type": "code",
      "source": [
        "##---------Type the code below this line------------------## \n",
        "# initialise data of lists.\n",
        "data = {'reviewId': review_id,\n",
        "        'overallRating': overall_review_rating,        \n",
        "        'review': review_text,\n",
        "        'helpfulUpvotes': review_helpful_count}\n",
        "  \n",
        "# Create DataFrame\n",
        "df = pd.DataFrame(data)\n",
        "  \n",
        "# Save the output.\n",
        "df.to_csv('amazon_review.csv')\n"
      ],
      "metadata": {
        "id": "pRGnKid2Q3xI"
      },
      "id": "pRGnKid2Q3xI",
      "execution_count": null,
      "outputs": []
    },
    {
      "cell_type": "code",
      "source": [
        "# When using pre-scraped csv from above\n",
        "df = pd.read_csv('drive/MyDrive/Datasets/amazon_review.csv', index_col=0)"
      ],
      "metadata": {
        "id": "_-hfScMNZr4v"
      },
      "id": "_-hfScMNZr4v",
      "execution_count": 91,
      "outputs": []
    },
    {
      "cell_type": "markdown",
      "id": "7b1fea4d",
      "metadata": {
        "id": "7b1fea4d"
      },
      "source": [
        "## 2.3 Confirm the data has been correctly by displaying the first 5 and last 5 records."
      ]
    },
    {
      "cell_type": "code",
      "execution_count": 92,
      "id": "624e6c58",
      "metadata": {
        "id": "624e6c58",
        "colab": {
          "base_uri": "https://localhost:8080/"
        },
        "outputId": "b7a605c9-e09b-419d-d2a8-87b43a3fe3c8"
      },
      "outputs": [
        {
          "output_type": "stream",
          "name": "stdout",
          "text": [
            "         reviewId  ...  helpfulUpvotes\n",
            "0  R2175DKWOQ16BI  ...          30,049\n",
            "1  R2P0NP0OWNJQFU  ...          11,577\n",
            "2   R51EDHN250S9U  ...           1,984\n",
            "3  R24K8G1ABRUZHM  ...           1,855\n",
            "4  R3VGT8XZEFGC9U  ...           1,584\n",
            "\n",
            "[5 rows x 4 columns]\n",
            "            reviewId  ...  helpfulUpvotes\n",
            "5005  R3L0GMGAEO5OIK  ...               0\n",
            "5006  R3P4C96PHDI9Y8  ...               0\n",
            "5007  R2P2BYL4BN9KWC  ...               0\n",
            "5008  R2MN9X4VQNX13R  ...               0\n",
            "5009  R23JA1C7BRPIEY  ...             One\n",
            "\n",
            "[5 rows x 4 columns]\n"
          ]
        }
      ],
      "source": [
        "##---------Type the code below this line------------------##\n",
        "print(df.head(5))\n",
        "print(df.tail(5))\n"
      ]
    },
    {
      "cell_type": "markdown",
      "id": "bb84fc56",
      "metadata": {
        "id": "bb84fc56"
      },
      "source": [
        "## 2.4 Display the column headings, statistical information, description and statistical summary of the data."
      ]
    },
    {
      "cell_type": "code",
      "execution_count": 93,
      "id": "086ad28e",
      "metadata": {
        "id": "086ad28e",
        "colab": {
          "base_uri": "https://localhost:8080/"
        },
        "outputId": "3269db79-6704-4da1-8d3f-c5651b10b5f8"
      },
      "outputs": [
        {
          "output_type": "stream",
          "name": "stdout",
          "text": [
            "-----------------Dataframe basic info------------------\n",
            "<class 'pandas.core.frame.DataFrame'>\n",
            "Int64Index: 5010 entries, 0 to 5009\n",
            "Data columns (total 4 columns):\n",
            " #   Column          Non-Null Count  Dtype \n",
            "---  ------          --------------  ----- \n",
            " 0   reviewId        5010 non-null   object\n",
            " 1   overallRating   5010 non-null   int64 \n",
            " 2   review          4992 non-null   object\n",
            " 3   helpfulUpvotes  5010 non-null   object\n",
            "dtypes: int64(1), object(3)\n",
            "memory usage: 195.7+ KB\n",
            "None\n",
            "\n",
            "\n",
            "-----------------Dataframe Description------------------\n",
            "\n",
            "\n",
            "       overallRating\n",
            "count    5010.000000\n",
            "mean        4.083234\n",
            "std         1.460076\n",
            "min         1.000000\n",
            "25%         4.000000\n",
            "50%         5.000000\n",
            "75%         5.000000\n",
            "max         5.000000\n",
            "\n",
            "\n",
            "-----------------Dataframe Statistical Summary------------------\n",
            "\n",
            "\n",
            "              reviewId                         ... helpfulUpvotes           \n",
            "                 count unique             top  ...         unique  top  freq\n",
            "overallRating                                  ...                          \n",
            "1                  744    735  R2175DKWOQ16BI  ...             59  One   197\n",
            "2                  142    142  R26R9PZTJ6THB9  ...             13    0    58\n",
            "3                  258    258   R9YMGZBAB2S7U  ...             15    0   133\n",
            "4                  675    675  R31SON0S4OSE3N  ...             20    0   431\n",
            "5                 3191   3190   R51EDHN250S9U  ...             39    0  2127\n",
            "\n",
            "[5 rows x 12 columns]\n",
            "\n",
            "-----------------overallRating column Statistical Summary------------------\n",
            "\n",
            "Mean Overall Rating:  4.083233532934131\n",
            "Max Overall Rating:  5.0\n",
            "Min Overall Rating:  1.0\n",
            "Median of  Overall Rating:  5.0\n",
            "\n",
            "-----------------review column Summary------------------\n",
            "\n",
            "Count of column review:  4992\n",
            "\n",
            "-----------------helpfulUpvotes column Summary------------------\n",
            "\n",
            "Count of column helpfulUpvotes:  5010\n",
            "\n",
            "-----------------reviewId column Summary------------------\n",
            "\n",
            "Count of column reviewId:  5010\n"
          ]
        }
      ],
      "source": [
        "##---------Type the code below this line------------------##\n",
        "print(\"-----------------Dataframe basic info------------------\")\n",
        "print(df.info())\n",
        "\n",
        "print(\"\\n\\n-----------------Dataframe Description------------------\\n\\n\")\n",
        "print(df.describe())\n",
        "\n",
        "print(\"\\n\\n-----------------Dataframe Statistical Summary------------------\\n\\n\")\n",
        "print(df.groupby('overallRating').describe())\n",
        "\n",
        "print(\"\\n-----------------overallRating column Statistical Summary------------------\\n\")\n",
        "print(\"Mean Overall Rating: \", df.overallRating.astype(float).mean())\n",
        "print(\"Max Overall Rating: \", df.overallRating.astype(float).max())\n",
        "print(\"Min Overall Rating: \", df.overallRating.astype(float).min())\n",
        "print(\"Median of  Overall Rating: \", df.overallRating.astype(float).median())\n",
        "\n",
        "print(\"\\n-----------------review column Summary------------------\\n\")\n",
        "print(\"Count of column review: \", df.review.count())\n",
        "\n",
        "print(\"\\n-----------------helpfulUpvotes column Summary------------------\\n\")\n",
        "print(\"Count of column helpfulUpvotes: \", df.helpfulUpvotes.count())\n",
        "\n",
        "print(\"\\n-----------------reviewId column Summary------------------\\n\")\n",
        "print(\"Count of column reviewId: \", df.reviewId.count())"
      ]
    },
    {
      "cell_type": "markdown",
      "id": "812edb18",
      "metadata": {
        "id": "812edb18"
      },
      "source": [
        "## 2.5 Write your observations from the above. \n",
        "1. Size of the dataset\n",
        "2. What type of data attributes are there?\n",
        "3. Is there any null data that has to be cleaned?\n",
        "\n",
        "Obervations:\n",
        "The dataset has total 5010 rows and 4 columns. \n",
        "The attribute *overallRating* is of type float and rest are of type object . It might need a type conversion for attribute *helpfulUpvotes* to numeric. And at the end, *helpfulUpvotes* need to be converted to boolean(0,1) so that model can be applied.\n",
        "It has null values so no cleanup needed.\n",
        "\n"
      ]
    },
    {
      "cell_type": "raw",
      "id": "60d80d2f",
      "metadata": {
        "id": "60d80d2f"
      },
      "source": [
        "--------------Type the answers below this line--------------"
      ]
    },
    {
      "cell_type": "markdown",
      "id": "102e0e36",
      "metadata": {
        "id": "102e0e36"
      },
      "source": [
        "# 3. Data Preparation"
      ]
    },
    {
      "cell_type": "markdown",
      "id": "2bcb953b",
      "metadata": {
        "id": "2bcb953b"
      },
      "source": [
        "## 3.1 Display how many unique values are present in each attribute\n"
      ]
    },
    {
      "cell_type": "code",
      "execution_count": 94,
      "id": "5a5b960e",
      "metadata": {
        "id": "5a5b960e",
        "colab": {
          "base_uri": "https://localhost:8080/"
        },
        "outputId": "e84bc527-2ed6-41a7-f4f3-5ba29b559891"
      },
      "outputs": [
        {
          "output_type": "stream",
          "name": "stdout",
          "text": [
            "Unique values of column reviewId:  5000\n",
            "Unique values of column overallRating:  5\n",
            "Unique values of column review:  4778\n",
            "Unique values of column helpfulUpvotes:  83\n"
          ]
        }
      ],
      "source": [
        "##---------Type the code below this line------------------##\n",
        "print(\"Unique values of column reviewId: \", len(df.reviewId.unique()))\n",
        "print(\"Unique values of column overallRating: \", len(df.overallRating.unique()))\n",
        "print(\"Unique values of column review: \", len(df.review.unique()))\n",
        "print(\"Unique values of column helpfulUpvotes: \", len(df.helpfulUpvotes.unique()))"
      ]
    },
    {
      "cell_type": "markdown",
      "id": "06fdebf8",
      "metadata": {
        "id": "06fdebf8"
      },
      "source": [
        "## 3.2 Check for the presence of duplicate data, identify the attributes with duplicate data, report the attributes. Mention the method adopted to remove duplicate data if present. Report the results again."
      ]
    },
    {
      "cell_type": "code",
      "execution_count": 95,
      "id": "c86d5b0b",
      "metadata": {
        "id": "c86d5b0b",
        "colab": {
          "base_uri": "https://localhost:8080/"
        },
        "outputId": "736f3b4d-bdac-4bf5-9745-452be4e186b4"
      },
      "outputs": [
        {
          "output_type": "stream",
          "name": "stdout",
          "text": [
            "-----------------Checking for the presence of duplicate data based on reviewId as its the identifier--------------------------\n",
            "Number of duplicate rows based on reviewId:  10\n",
            "\n",
            "\n",
            "\n",
            "----------Removing the duplicate rows. Method used is Replace considering the low count and irrelevance of such record---------------------\n",
            "\n",
            "\n",
            "\n",
            "<class 'pandas.core.frame.DataFrame'>\n",
            "Int64Index: 5000 entries, 0 to 5009\n",
            "Data columns (total 4 columns):\n",
            " #   Column          Non-Null Count  Dtype \n",
            "---  ------          --------------  ----- \n",
            " 0   reviewId        5000 non-null   object\n",
            " 1   overallRating   5000 non-null   int64 \n",
            " 2   review          4982 non-null   object\n",
            " 3   helpfulUpvotes  5000 non-null   object\n",
            "dtypes: int64(1), object(3)\n",
            "memory usage: 195.3+ KB\n",
            "None\n",
            "\n",
            "\n",
            "\n",
            "----------------Info of unduplicated dataframe-----------------------------------\n",
            "\n",
            "Number of duplicate rows based on reviewId:  0\n"
          ]
        }
      ],
      "source": [
        "##---------Type the code below this line------------------##\n",
        "\n",
        "print(\"-----------------Checking for the presence of duplicate data based on reviewId as its the identifier--------------------------\")\n",
        "#As reviewId is the unique identifier for a review, identifying duplicated based on it.\n",
        "print(\"Number of duplicate rows based on reviewId: \", df.reviewId.duplicated().sum())\n",
        "\n",
        "print('\\n\\n\\n----------Removing the duplicate rows. Method used is Replace considering the low count and irrelevance of such record---------------------\\n\\n\\n')\n",
        "new_df = df.drop_duplicates(subset =\"reviewId\", keep = 'first', inplace = False)\n",
        "print(new_df.info())\n",
        "\n",
        "print('\\n\\n\\n----------------Info of unduplicated dataframe-----------------------------------\\n')\n",
        "print(\"Number of duplicate rows based on reviewId: \", new_df.reviewId.duplicated().sum())\n",
        "\n",
        "\n"
      ]
    },
    {
      "cell_type": "markdown",
      "id": "e3cec4fc",
      "metadata": {
        "id": "e3cec4fc"
      },
      "source": [
        "## 3.3 Show whether there are any missing values in each attribute. Report the same.\n"
      ]
    },
    {
      "cell_type": "code",
      "execution_count": 96,
      "id": "747250db",
      "metadata": {
        "id": "747250db",
        "colab": {
          "base_uri": "https://localhost:8080/"
        },
        "outputId": "aaf68654-4d28-4f11-805e-b8d073fdfaec"
      },
      "outputs": [
        {
          "output_type": "stream",
          "name": "stdout",
          "text": [
            "Indices for missing values in reviewId column:  (array([], dtype=int64),)\n",
            "Indices for missing values in overallRating column:  (array([], dtype=int64),)\n",
            "Indices for missing values in helpfulUpvotes column:  (array([], dtype=int64),)\n",
            "Indices for missing values in review column:  (array([1747, 1781, 1886, 2495, 2602, 2750, 2807, 3001, 3109, 3126, 3212,\n",
            "       3434, 3440, 4078, 4300, 4334, 4467, 4535]),)\n"
          ]
        }
      ],
      "source": [
        "##---------Type the code below this line------------------##\n",
        "import numpy as np\n",
        "print('Indices for missing values in reviewId column: ', np.where(pd.isnull(new_df['reviewId'])))\n",
        "print('Indices for missing values in overallRating column: ', np.where(pd.isnull(new_df['overallRating'])))\n",
        "print('Indices for missing values in helpfulUpvotes column: ', np.where(pd.isnull(new_df['helpfulUpvotes'])))\n",
        "print('Indices for missing values in review column: ', np.where(pd.isnull(new_df['review'])))"
      ]
    },
    {
      "cell_type": "code",
      "source": [
        "for i in np.where(pd.isnull(new_df['review'])):\n",
        "  print(new_df.iloc[i].helpfulUpvotes)"
      ],
      "metadata": {
        "colab": {
          "base_uri": "https://localhost:8080/"
        },
        "id": "rh03c0JLmUOk",
        "outputId": "c10eaf74-66a6-49be-bd65-03ac537a190a"
      },
      "id": "rh03c0JLmUOk",
      "execution_count": 97,
      "outputs": [
        {
          "output_type": "stream",
          "name": "stdout",
          "text": [
            "1757      3\n",
            "1791      3\n",
            "1896      3\n",
            "2505    One\n",
            "2612      2\n",
            "2760      0\n",
            "2817      2\n",
            "3011      2\n",
            "3119      2\n",
            "3136      2\n",
            "3222      0\n",
            "3444      0\n",
            "3450    One\n",
            "4088      0\n",
            "4310      0\n",
            "4344      0\n",
            "4477      0\n",
            "4545    One\n",
            "Name: helpfulUpvotes, dtype: object\n"
          ]
        }
      ]
    },
    {
      "cell_type": "markdown",
      "id": "e7b4a34f",
      "metadata": {
        "id": "e7b4a34f"
      },
      "source": [
        "## 3.4 Clean the missing data using any imputation technique, mention the method used and again report the change after cleaning the data."
      ]
    },
    {
      "cell_type": "code",
      "execution_count": 98,
      "id": "ee55faf4",
      "metadata": {
        "id": "ee55faf4",
        "colab": {
          "base_uri": "https://localhost:8080/"
        },
        "outputId": "9f02327d-e77c-4d16-fae5-1372406e564e"
      },
      "outputs": [
        {
          "output_type": "stream",
          "name": "stdout",
          "text": [
            "We can see from above that only the column review has empty values. Imputing this column value is not a good idea as \n",
            "\n",
            "1. These columns does have upvotes so it cannot be removed from processing \n",
            "\n",
            "2. In the next steps we would be applying Text Feature Generation Techniques where adding a default review text would mislead the model \n",
            "\n",
            "3. In this case, empty values for review would not cause any adverse issue\n"
          ]
        }
      ],
      "source": [
        "##---------Type the code below this line------------------##\n",
        "print('We can see from above that only the column review has empty values. Imputing this column value is not a good idea as \\n')\n",
        "print('1. These columns does have upvotes so it cannot be removed from processing \\n')\n",
        "print('2. In the next steps we would be applying Text Feature Generation Techniques where adding a default review text would mislead the model \\n')\n",
        "print('3. In this case, empty values for review would not cause any adverse issue')\n",
        "\n"
      ]
    },
    {
      "cell_type": "markdown",
      "id": "33700253",
      "metadata": {
        "id": "33700253"
      },
      "source": [
        "## 3.5 Check if all the attributes are following the same format and are consistent. If not, report all such attributes and what inconsistencies are present."
      ]
    },
    {
      "cell_type": "code",
      "execution_count": 99,
      "id": "e9124fcc",
      "metadata": {
        "id": "e9124fcc",
        "colab": {
          "base_uri": "https://localhost:8080/"
        },
        "outputId": "e7d625a7-7d3c-4eb9-d4f3-337e6ffb0645"
      },
      "outputs": [
        {
          "output_type": "stream",
          "name": "stdout",
          "text": [
            "['R2175DKWOQ16BI' 'R2P0NP0OWNJQFU' 'R51EDHN250S9U' ... 'R2P2BYL4BN9KWC'\n",
            " 'R2MN9X4VQNX13R' 'R23JA1C7BRPIEY']\n",
            "Review Id column values are following same format consistently. \n",
            "\n",
            "\n",
            "[1 5 2 3 4]\n",
            "overallRating column values are following same format consistently. \n",
            "\n",
            "\n",
            "[\"\\n\\n  Please do not buy expensive product like iphone from Amazon, i had very bad exp, the charger cord was missing and had sound quality issues. Amazon initial told charger doesn't come in box and when i challenged it they asked reimburse the cord amount, but i requested a replacement, after some days they called me and informed that they dont take responsibility of missing items, and 10 day replacement policy they dont follow, you can read the email conversation attached  here where i mentioned every thing, i have the call recordings as well. At last they denied the phone replacement and even to provide the missing cord. For any damage or quality issues they said amazon is not responsible.\\n\\n\"\n",
            " '\\n\\n  Bought the mobile from appario retail ltd. Mobile is heating up within seconds and also camera modes aren’t working properly. Particularly in portrait mode, the stage light and mono options aren’t working properly.  i raised the same to apple customer care they confirmed that its not software issue. But the amazon customer care told me that they need a job card and report from apple service center. The nearest service center is located at 210km from my place, imagine the amount of strain and how much its going to cost. Before you buy anything from this seller just google it and u can find numerous complaints on this seller. What ever they sell u will find defective products only. There is a thread on this sellers dubious deals in quora. Please be safe and don’t regret after.\\n\\n'\n",
            " '\\n\\n  The iPhone design is good and the camera quality is awesome. You can also take pictures in wide angles and the image quality is awesome.Phone got delivered at 9am on 28th September (I pre-order it on 27th September at 3am in the morning), I got my phone before the delivery date with nice and secured packaging.The overall look of the phone is premium and face unlocking is fast. I grabbed this phone with HDFC 6K Instant Discount Offer at Just 64K (128 GB Variant).Cons:1. The phone is great but if you use \"in the box\" accessories like \"EarPods with Lighting Connector\", then you might feel a little pain in your ears.2. The phone comes with 5W charger which charge your phone slowly. I recommend you to prefer using 18W charger.Well, I\\'ve never tried the iPhone before and I\\'m using this for the first time (Yes, I\\'m already using other apple products like MacBook Air & Pro).But the product is great and I\\'m just lovin it.\\n\\n'\n",
            " ...\n",
            " '\\n\\n\\n\\n\\n                    The media could not be loaded.\\n                \\n\\n\\n\\n\\n  \\xa0Nice built quality...super fast and handy....smootg touch and great performance\\n\\n'\n",
            " '\\n\\n  Witness excess heat while charging.\\n\\n' '\\n\\n  Superb phone\\n\\n']\n",
            "review column values are following same format consistently. \n",
            "\n",
            "\n",
            "['30,049' '11,577' '1,984' '1,855' '1,584' '1,491' '1,091' '758' '931'\n",
            " '704' '458' '424' '514' '328' '407' '330' '326' '251' '273' '238' '175'\n",
            " '180' '140' '136' '216' '134' '111' '153' '104' '126' '92' '96' '73' '71'\n",
            " '97' '81' '77' '53' '48' '36' '56' '41' '49' '54' '65' '47' '37' '43'\n",
            " '28' '27' '29' '26' '30' '46' '20' '39' '22' '24' '17' '18' '21' '13'\n",
            " '19' '31' '42' '33' '14' '11' '16' '15' '12' '8' '9' '10' '23' '7' '5'\n",
            " '4' '6' '3' '2' 'One' '0']\n",
            "It can be seen that helpfulUpvotes column has inconsistent data format where few rows have literal One instead of numeric 1\n"
          ]
        }
      ],
      "source": [
        "##---------Type the code below this line------------------##\n",
        "\n",
        "print(new_df.reviewId.unique())\n",
        "print('Review Id column values are following same format consistently. \\n\\n')\n",
        "print(new_df.overallRating.unique())\n",
        "print('overallRating column values are following same format consistently. \\n\\n')\n",
        "print(new_df.review.unique())\n",
        "print('review column values are following same format consistently. \\n\\n')\n",
        "print(new_df.helpfulUpvotes.unique())\n",
        "print('It can be seen that helpfulUpvotes column has inconsistent data format where few rows have literal One instead of numeric 1')\n",
        "\n"
      ]
    },
    {
      "cell_type": "markdown",
      "id": "3c936608",
      "metadata": {
        "id": "3c936608"
      },
      "source": [
        "## 3.6 Correct the data if there are inconsistencies from 3.5. Report or print the data after correction."
      ]
    },
    {
      "cell_type": "code",
      "execution_count": 100,
      "id": "1c047e47",
      "metadata": {
        "id": "1c047e47",
        "colab": {
          "base_uri": "https://localhost:8080/"
        },
        "outputId": "e5733db4-ba0a-4794-9eab-6fecb620d812"
      },
      "outputs": [
        {
          "output_type": "stream",
          "name": "stdout",
          "text": [
            "['30,049' '11,577' '1,984' '1,855' '1,584' '1,491' '1,091' '758' '931'\n",
            " '704' '458' '424' '514' '328' '407' '330' '326' '251' '273' '238' '175'\n",
            " '180' '140' '136' '216' '134' '111' '153' '104' '126' '92' '96' '73' '71'\n",
            " '97' '81' '77' '53' '48' '36' '56' '41' '49' '54' '65' '47' '37' '43'\n",
            " '28' '27' '29' '26' '30' '46' '20' '39' '22' '24' '17' '18' '21' '13'\n",
            " '19' '31' '42' '33' '14' '11' '16' '15' '12' '8' '9' '10' '23' '7' '5'\n",
            " '4' '6' '3' '2' '1' '0']\n"
          ]
        }
      ],
      "source": [
        "##---------Type the code below this line------------------##\n",
        "new_df['helpfulUpvotes'] = new_df['helpfulUpvotes'].replace(to_replace=['One'], value='1')\n",
        "\n",
        "print(new_df.helpfulUpvotes.unique())"
      ]
    },
    {
      "cell_type": "markdown",
      "id": "793cd04b",
      "metadata": {
        "id": "793cd04b"
      },
      "source": [
        "## 3.7 Identify the target variables.\n"
      ]
    },
    {
      "cell_type": "code",
      "execution_count": 101,
      "id": "c9089b57",
      "metadata": {
        "id": "c9089b57",
        "colab": {
          "base_uri": "https://localhost:8080/"
        },
        "outputId": "13714133-2607-47a4-8128-f9be981b1a7c"
      },
      "outputs": [
        {
          "output_type": "stream",
          "name": "stdout",
          "text": [
            "Adding a new boolean column isHelpful based on existing column helpfulUpvotes\n",
            "\n",
            "\n",
            " If a review has even a single helpfulUpvote then isHelpful is 1 else its 0 \n",
            "\n",
            "\n",
            "            reviewId  overallRating  ... helpfulUpvotes isHelpful\n",
            "5005  R3L0GMGAEO5OIK              4  ...              0         0\n",
            "5006  R3P4C96PHDI9Y8              5  ...              0         0\n",
            "5007  R2P2BYL4BN9KWC              5  ...              0         0\n",
            "5008  R2MN9X4VQNX13R              5  ...              0         0\n",
            "5009  R23JA1C7BRPIEY              5  ...              1         1\n",
            "\n",
            "[5 rows x 5 columns]\n",
            "         reviewId  overallRating  ... helpfulUpvotes isHelpful\n",
            "0  R2175DKWOQ16BI              1  ...         30,049         1\n",
            "1  R2P0NP0OWNJQFU              1  ...         11,577         1\n",
            "2   R51EDHN250S9U              5  ...          1,984         1\n",
            "3  R24K8G1ABRUZHM              1  ...          1,855         1\n",
            "4  R3VGT8XZEFGC9U              1  ...          1,584         1\n",
            "\n",
            "[5 rows x 5 columns]\n",
            "\n",
            "\n",
            " TARGET VARIABLE is isHelpful \n",
            "\n",
            "\n",
            " \n"
          ]
        }
      ],
      "source": [
        "##---------Type the code below this line------------------##\n",
        "print('Adding a new boolean column isHelpful based on existing column helpfulUpvotes\\n')\n",
        "print('\\n If a review has even a single helpfulUpvote then isHelpful is 1 else its 0 \\n\\n')\n",
        "new_df['isHelpful'] = new_df.helpfulUpvotes.apply(lambda x: 1 if x != '0' else 0)\n",
        "print(new_df.tail())\n",
        "print(new_df.head())\n",
        "print('\\n\\n TARGET VARIABLE is isHelpful \\n\\n\\n ')\n"
      ]
    },
    {
      "cell_type": "markdown",
      "id": "2d1ecddb",
      "metadata": {
        "id": "2d1ecddb"
      },
      "source": [
        "## 3.8 Separate the data front the target such that the dataset is in the form of (X,y) or (Features, Label)\n"
      ]
    },
    {
      "cell_type": "code",
      "execution_count": 102,
      "id": "2258a7c9",
      "metadata": {
        "id": "2258a7c9",
        "colab": {
          "base_uri": "https://localhost:8080/"
        },
        "outputId": "dc42cad6-64d3-48c8-a6ac-8d5fbe76560d"
      },
      "outputs": [
        {
          "output_type": "stream",
          "name": "stdout",
          "text": [
            "         reviewId  ... helpfulUpvotes\n",
            "0  R2175DKWOQ16BI  ...         30,049\n",
            "1  R2P0NP0OWNJQFU  ...         11,577\n",
            "2   R51EDHN250S9U  ...          1,984\n",
            "3  R24K8G1ABRUZHM  ...          1,855\n",
            "4  R3VGT8XZEFGC9U  ...          1,584\n",
            "\n",
            "[5 rows x 4 columns]\n",
            "   isHelpful\n",
            "0          1\n",
            "1          1\n",
            "2          1\n",
            "3          1\n",
            "4          1\n"
          ]
        }
      ],
      "source": [
        "##---------Type the code below this line------------------##\n",
        "X = new_df[['reviewId', 'review', 'overallRating', 'helpfulUpvotes']].copy()\n",
        "y = new_df[['isHelpful']]\n",
        "print(X.head())\n",
        "print(y.head())"
      ]
    },
    {
      "cell_type": "markdown",
      "id": "280c1f13",
      "metadata": {
        "id": "280c1f13"
      },
      "source": [
        "## 3.9 Discretize the target variable or perform one-hot encoding on the target or any other as and if required.\n"
      ]
    },
    {
      "cell_type": "code",
      "execution_count": 103,
      "id": "9a043cd5",
      "metadata": {
        "id": "9a043cd5",
        "colab": {
          "base_uri": "https://localhost:8080/"
        },
        "outputId": "ccdf9da4-ffab-48b9-baaf-8a4e1f76e869"
      },
      "outputs": [
        {
          "output_type": "stream",
          "name": "stdout",
          "text": [
            "Target variable isHelpful is already has discrete values 0 and 1\n"
          ]
        }
      ],
      "source": [
        "##---------Type the code below this line------------------##\n",
        "\n",
        "print('Target variable isHelpful is already has discrete values 0 and 1')"
      ]
    },
    {
      "cell_type": "markdown",
      "id": "3ae0b5d2",
      "metadata": {
        "id": "3ae0b5d2"
      },
      "source": [
        "# 4. Data Exploration using various plots"
      ]
    },
    {
      "cell_type": "markdown",
      "id": "186bf4d7",
      "metadata": {
        "id": "186bf4d7"
      },
      "source": [
        "## 4.1 Scatter plot of each attribute with the target."
      ]
    },
    {
      "cell_type": "code",
      "execution_count": 104,
      "id": "868d7b27",
      "metadata": {
        "id": "868d7b27",
        "colab": {
          "base_uri": "https://localhost:8080/",
          "height": 296
        },
        "outputId": "bf467571-ccf3-4a0e-a4e0-4a0d6d3c4ab8"
      },
      "outputs": [
        {
          "output_type": "execute_result",
          "data": {
            "text/plain": [
              "<matplotlib.axes._subplots.AxesSubplot at 0x7fb81371dd90>"
            ]
          },
          "metadata": {},
          "execution_count": 104
        },
        {
          "output_type": "display_data",
          "data": {
            "image/png": "[encoded data removed]",
            "text/plain": [
              "<Figure size 432x288 with 1 Axes>"
            ]
          },
          "metadata": {
            "needs_background": "light"
          }
        }
      ],
      "source": [
        "##---------Type the code below this line------------------##\n",
        "new_df.plot.scatter(x='overallRating', y='isHelpful')"
      ]
    },
    {
      "cell_type": "markdown",
      "id": "77e57102",
      "metadata": {
        "id": "77e57102"
      },
      "source": [
        "## 5.1 Display correlation heatmap of each attribute against the target and report which features are significant."
      ]
    },
    {
      "cell_type": "code",
      "execution_count": 105,
      "id": "7f20f541",
      "metadata": {
        "id": "7f20f541",
        "colab": {
          "base_uri": "https://localhost:8080/",
          "height": 586
        },
        "outputId": "2abd6227-8f6e-404b-c3cc-8a1351724669"
      },
      "outputs": [
        {
          "output_type": "stream",
          "name": "stdout",
          "text": [
            "\n",
            "\n",
            " Heatmap showing only OverallRating and isHelpful as these are the only numeric attributes.\n",
            "\n",
            "\n"
          ]
        },
        {
          "output_type": "display_data",
          "data": {
            "image/png": "[encoded data removed]",
            "text/plain": [
              "<Figure size 1296x576 with 2 Axes>"
            ]
          },
          "metadata": {
            "needs_background": "light"
          }
        }
      ],
      "source": [
        "##---------Type the code below this line------------------##\n",
        "import seaborn as sns\n",
        "import matplotlib.pyplot as plt\n",
        "correlations = new_df.corr()\n",
        "plt.figure(figsize = (18,8))\n",
        "plt.title(\"Heatmap of correlations in each catagory\")\n",
        "_ = sns.heatmap(correlations, vmin=0, vmax=1, annot=True, cmap=\"PiYG\")\n",
        "print('\\n\\n Heatmap showing only OverallRating and isHelpful as these are the only numeric attributes.\\n\\n')"
      ]
    },
    {
      "cell_type": "markdown",
      "source": [
        "# Text Feature Generation\n",
        "\n",
        "\n",
        "*   First we will convert the review text into lower case\n",
        "*   We will also remove punctuation as usually punctuations make the learning model perform poorly. This does have a trade off as as not having punctuation will make a review harder to understand.\n",
        "\n"
      ],
      "metadata": {
        "id": "ZD1Psd-Cy_13"
      },
      "id": "ZD1Psd-Cy_13"
    },
    {
      "cell_type": "code",
      "source": [
        "import string\n",
        "new_df.loc[:, 'review'] = new_df.review.str.lower()\n",
        "new_df['review'] = new_df.review.replace(to_replace=[\"\\n\"], value=\"\", regex=True)\n",
        "new_df['review'] = new_df['review'].replace(to_replace= np.nan, value='')\n",
        "def remove_punctuation(text):\n",
        "    return text.translate(string.punctuation.translate('\"'))\n",
        "\n"
      ],
      "metadata": {
        "id": "gtuha3HW1vu6"
      },
      "id": "gtuha3HW1vu6",
      "execution_count": 106,
      "outputs": []
    },
    {
      "cell_type": "code",
      "source": [
        "new_df['review']=new_df['review'].apply( lambda x: remove_punctuation(x))\n"
      ],
      "metadata": {
        "id": "9N0eEfL35D26"
      },
      "id": "9N0eEfL35D26",
      "execution_count": 107,
      "outputs": []
    },
    {
      "cell_type": "markdown",
      "source": [
        "We will use TF-IDF vectorizer to generate features from review text. Before that, we will use below techniques:\n",
        "\n",
        "*   Stemming: To take only the principal word from words like \"vectorizer\" to \"vector\".\n",
        "*   Tokenizing: To split sentences to individual words. \n",
        "*   ngrams: To make group of words to create additional features. If ngrams is set to 2 then it will split the sentence into a group of two words. So, the sentence \"I am Thor\" will be split into \"I am\" and \"am Thor\".\n",
        "*   Remove Stop Words: To remove words like \"the\" \"a\" \"it\" etc as these are not relevant.\n",
        "\n"
      ],
      "metadata": {
        "id": "2grvst0d_w2j"
      },
      "id": "2grvst0d_w2j"
    },
    {
      "cell_type": "code",
      "source": [
        "from sklearn.feature_extraction.text import TfidfVectorizer\n",
        "from nltk.stem.snowball import SnowballStemmer\n",
        "\n",
        "#create a stemmer\n",
        "stemmer = SnowballStemmer(\"english\")\n",
        "\n",
        "#lets define our own tokenizing function that we will pass into the TFIDFVectorizer. We will also stem the words here.\n",
        "def tokens(x):\n",
        "    x = x.split()\n",
        "    stems = []\n",
        "    [stems.append(stemmer.stem(word)) for word in x]\n",
        "    return stems\n",
        "\n",
        "# min_df param is kept very low. it means we will include a word in the vector only if its part of 1% of the documents. This is to make sure we do not \n",
        "# include typos as if a word is that rare then most likely its a typo.\n",
        "vectorizer = TfidfVectorizer(tokenizer = tokens, stop_words = 'english', ngram_range=(1, 1), min_df = 0.01)\n",
        "#fit the vectorizers to the data.\n",
        "features = vectorizer.fit_transform(new_df['review'])\n",
        "features\n"
      ],
      "metadata": {
        "colab": {
          "base_uri": "https://localhost:8080/"
        },
        "id": "P5Cn3K4XBf5x",
        "outputId": "b8597b22-daf8-47fc-9db2-bc3ad247aa5c"
      },
      "id": "P5Cn3K4XBf5x",
      "execution_count": 109,
      "outputs": [
        {
          "output_type": "execute_result",
          "data": {
            "text/plain": [
              "<5000x286 sparse matrix of type '<class 'numpy.float64'>'\n",
              "\twith 46927 stored elements in Compressed Sparse Row format>"
            ]
          },
          "metadata": {},
          "execution_count": 109
        }
      ]
    },
    {
      "cell_type": "markdown",
      "source": [
        "# Benchmark Model\n",
        "We will try with below models:\n",
        "\n",
        "*   Logistic Regression: Logistic Regression is used frequently for text classification\n",
        "\n",
        ">>Pros:Logistic regression can be updated after is has already been trained, meaning that new reviews can be used to teach the algorithm after it has already been training.\n",
        "\n",
        ">>Cons: Logistic regression is not as fast as the naive bayes methods\n",
        "\n",
        ">>Selection Reason: The ability to update itself after its initial training period may prove to be valuable.\n",
        "\n",
        "\n",
        "*   Random Forest: A Random Forest is a ensembling algorithm that fits a number of decision tree classifiers on various sub-samples of the dataset and use averaging to improve the predictive accuracy and control over-fitting.\n",
        ">>Pros: The strength of the Random Forest classifier comes from the formation of it's trees. Because it is formed from \"random\" subsets of the data, and the final result is compared to other trees that have also been formed \"randomly\", the algorithm guards well against \"overfitting\" from noisy data points that may have more influence on a single decision tree algorithm. The \"random\" formation of the trees ensures that there is little chance for a strong bias to be present in the data during tree construction. **Random Forests also work well with high dimensional data, as in the case of our TFIDF features.**\n",
        "\n",
        ">>Cons: A lot of trees are necessary to get stable estimates of variable importance and proximity. This can lead to a large amount of space in memory being needed to store the trees. Additionally, the trees need to be re-trained when new data is being introduced, unlike Naive Bayes.\n",
        "Its training complexity is given as O(M √d n log n) where d is the number of features and M is the number of trees.\n",
        "\n",
        ">>Reason for selection: Since random forest works well with high dimensional data, as is competitive with other algorithms such as SVM without the high training cost.\n",
        "\n",
        "*   AdaBoost:  AdaBoost or \"adaptive boosting\" begins by fitting a \"weak\" classifier on the original dataset. It then fits additional copies of the classifier on the same dataset and adjusts the weights of incorrectly classified instances such that subsequent classifiers focus more on difficult cases. The adjustment is done using the SAMME-R algorithm (for classification). **Adaboost has been used in robust real time face detection**\n",
        "\n",
        ">>Pros:  Because of it's boosting property, Adaboost will not suffer from overfitting caused by too many training periods in the boosting algorithm. Theoretically, the algorithm should produce better and better results the more it is trained.\n",
        "\n",
        ">>Cons: Adaboost is slow to train, relative to GaussianNB (actual training complexity could not be found).\n",
        "\n",
        ">>Reason for selection: It will be interesting to measure the performance of the boosting method of Adaboost vs the vote method for the RF algorithm, as both use decision trees and differ only in the method in which the tree are ensembled together for the final classification.\n",
        "\n"
      ],
      "metadata": {
        "id": "i4gC0oSu1HGF"
      },
      "id": "i4gC0oSu1HGF"
    },
    {
      "cell_type": "code",
      "source": [
        "#Train test preparation with shuffle\n",
        "# !pip install sklearn.cross_validation\n",
        "from sklearn.model_selection import train_test_split\n",
        "X_train, X_test, y_train, y_test = train_test_split(features,new_df['isHelpful'], test_size=0.2, random_state=RAN_STATE)"
      ],
      "metadata": {
        "id": "rOvCnAvPRYkm"
      },
      "id": "rOvCnAvPRYkm",
      "execution_count": 112,
      "outputs": []
    },
    {
      "cell_type": "markdown",
      "source": [
        "We will use ROC-AUC as evaluation metrics.\n",
        "ROC: Receiver Operator Characteristic curve is an evaluation metric for binary classification problems. An ROC curve plots TPR vs. FPR at different classification thresholds. Lowering the classification threshold classifies more items as positive, thus increasing both False Positives and True Positives.\n",
        "\n",
        "AUC stands for \"Area under the ROC Curve.\" That is, AUC measures the entire two-dimensional area underneath the entire ROC curve (think integral calculus) from (0,0) to (1,1). AUC provides an aggregate measure of performance across all possible classification thresholds. One way of interpreting AUC is as the probability that the model ranks a random positive example more highly than a random negative example. It ranges in value from 0 to 1. A model whose predictions are 100% wrong has an AUC of 0.0; one whose predictions are 100% correct has an AUC of 1.0.\n",
        "\n",
        "AUC is desirable for the following two reasons:\n",
        "\n",
        "* AUC is scale-invariant. It measures how well predictions are ranked, rather than their absolute values.\n",
        "* AUC is classification-threshold-invariant. It measures the quality of the model's predictions irrespective of what classification threshold is chosen."
      ],
      "metadata": {
        "id": "MFLKt4ZS8EgD"
      },
      "id": "MFLKt4ZS8EgD"
    },
    {
      "cell_type": "code",
      "source": [
        "# Helper methods to be used for model execution and evaluation\n",
        "\n",
        "from sklearn.metrics import roc_auc_score, roc_curve\n",
        "\n",
        "def train_classifier(clf, X_train, y_train):\n",
        "    ''' Fits a classifier to the training data. '''\n",
        "    \n",
        "    # Start the clock, train the classifier, then stop the clock\n",
        "    start = time()\n",
        "    clf.fit(X_train, y_train)\n",
        "    end = time()\n",
        "    \n",
        "    # Print the results\n",
        "    print (\"Trained model in {:.4f} seconds\".format(end - start))\n",
        "\n",
        "def predict_labels(clf, features, target):\n",
        "    ''' Makes predictions using a fit classifier based on roc_auc score. '''\n",
        "    \n",
        "    # Start the clock, make predictions, then stop the clock\n",
        "    start = time()\n",
        "    probas = clf.predict_proba(features)\n",
        "    end = time()\n",
        "    \n",
        "    # Print and return results\n",
        "    print (\"Made predictions in {:.4f} seconds.\".format(end - start))\n",
        "    return roc_auc_score(target.values, probas[:,1].T)\n",
        "\n",
        "def train_predict(clf, X_train, y_train, X_test, y_test):\n",
        "    ''' Train and predict using a classifer based on roc_auc score. '''\n",
        "    \n",
        "    # Indicate the classifier and the training set size\n",
        "    print (\"Training a {} using a training set size of {}. . .\".format(clf.__class__.__name__, X_train.shape[0]))\n",
        "    print (\"Training a {} using a training set size of {}. . .\".format(clf.__class__.__name__, X_test.shape[0]))\n",
        "    \n",
        "    # Train the classifier\n",
        "    train_classifier(clf, X_train, y_train)\n",
        "    \n",
        "    # Print the results of prediction for both training and testing\n",
        "    print (\"ROC_AUC score for training set: {:.4f}.\".format(predict_labels(clf, X_train, y_train)))\n",
        "    print (\"ROC_AUC score for test set: {:.4f}.\\n\".format(predict_labels(clf, X_test, y_test)))\n",
        "\n",
        "def clf_test_roc_score(clf, X_train, y_train, X_test, y_test):\n",
        "    clf.fit(X_train, y_train)\n",
        "    probas = probas =clf.predict_proba(X_test)\n",
        "    return roc_auc_score(y_test, probas[:,1].T)"
      ],
      "metadata": {
        "id": "5EWJa4kL9nVZ"
      },
      "id": "5EWJa4kL9nVZ",
      "execution_count": 123,
      "outputs": []
    },
    {
      "cell_type": "code",
      "source": [
        "# Import the supervised learning models from sklearn\n",
        "from sklearn.naive_bayes import GaussianNB\n",
        "from sklearn.ensemble import AdaBoostClassifier\n",
        "from sklearn.ensemble import RandomForestClassifier\n",
        "from sklearn.linear_model import LogisticRegression\n",
        "from sklearn.tree import DecisionTreeClassifier"
      ],
      "metadata": {
        "id": "cL11WSk_BhTR"
      },
      "id": "cL11WSk_BhTR",
      "execution_count": 124,
      "outputs": []
    },
    {
      "cell_type": "code",
      "source": [
        "clf_list = [AdaBoostClassifier(random_state = RAN_STATE), \n",
        "            RandomForestClassifier(random_state = RAN_STATE), \n",
        "            LogisticRegression(random_state = RAN_STATE)]\n",
        "\n",
        "\n",
        "# Execute the 'train_predict' function for each of the classifiers and each training set size\n",
        "for clf in clf_list:\n",
        "    train_predict(clf, X_train, y_train, X_test, y_test)"
      ],
      "metadata": {
        "colab": {
          "base_uri": "https://localhost:8080/"
        },
        "id": "GxTrJWeXCRNw",
        "outputId": "cceba7b9-cf40-4437-e2cb-525fe18d4477"
      },
      "id": "GxTrJWeXCRNw",
      "execution_count": 125,
      "outputs": [
        {
          "output_type": "stream",
          "name": "stdout",
          "text": [
            "Training a AdaBoostClassifier using a training set size of 4000. . .\n",
            "Training a AdaBoostClassifier using a training set size of 1000. . .\n",
            "Trained model in 0.4486 seconds\n",
            "Made predictions in 0.0485 seconds.\n",
            "ROC_AUC score for training set: 0.7078.\n",
            "Made predictions in 0.0309 seconds.\n",
            "ROC_AUC score for test set: 0.6205.\n",
            "\n",
            "Training a RandomForestClassifier using a training set size of 4000. . .\n",
            "Training a RandomForestClassifier using a training set size of 1000. . .\n",
            "Trained model in 2.5108 seconds\n",
            "Made predictions in 0.1487 seconds.\n",
            "ROC_AUC score for training set: 0.9942.\n",
            "Made predictions in 0.0623 seconds.\n",
            "ROC_AUC score for test set: 0.6497.\n",
            "\n",
            "Training a LogisticRegression using a training set size of 4000. . .\n",
            "Training a LogisticRegression using a training set size of 1000. . .\n",
            "Trained model in 0.0291 seconds\n",
            "Made predictions in 0.0005 seconds.\n",
            "ROC_AUC score for training set: 0.7034.\n",
            "Made predictions in 0.0003 seconds.\n",
            "ROC_AUC score for test set: 0.6285.\n",
            "\n"
          ]
        }
      ]
    },
    {
      "cell_type": "markdown",
      "source": [
        "Here are the observations:\n",
        "\n",
        "1.   Random Forest performed the best in both training and test set.\n",
        "2.   Though having better accuracy metrics, Random Forest took the longest.\n",
        "3.   Logistic Regression took the shortest time.\n",
        "4.   If the Dataset is small the Random Forest should be the selected classifier whereas if the dataset is huge, Logistic Regression is better suited with least compromise in quality of classification.\n",
        "\n"
      ],
      "metadata": {
        "id": "t0uDCHwJE-L3"
      },
      "id": "t0uDCHwJE-L3"
    }
  ],
  "metadata": {
    "kernelspec": {
      "display_name": "Python 3 (ipykernel)",
      "language": "python",
      "name": "python3"
    },
    "language_info": {
      "codemirror_mode": {
        "name": "ipython",
        "version": 3
      },
      "file_extension": ".py",
      "mimetype": "text/x-python",
      "name": "python",
      "nbconvert_exporter": "python",
      "pygments_lexer": "ipython3",
      "version": "3.8.10"
    },
    "colab": {
      "name": "Amazon Review Helpfulness Classifier.ipynb",
      "provenance": [],
      "collapsed_sections": [],
      "include_colab_link": true
    }
  },
  "nbformat": 4,
  "nbformat_minor": 5
}